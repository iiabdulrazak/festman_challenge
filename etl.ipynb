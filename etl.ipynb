{
 "cells": [
  {
   "cell_type": "code",
   "execution_count": 1,
   "id": "e579125f-83b0-4727-9295-8bd8646c32f6",
   "metadata": {},
   "outputs": [],
   "source": [
    "import pandas as pd"
   ]
  },
  {
   "cell_type": "code",
   "execution_count": 3,
   "id": "b576e1b4-b3e2-42c7-b4ba-ded4b389503e",
   "metadata": {},
   "outputs": [
    {
     "data": {
      "text/html": [
       "<div>\n",
       "<style scoped>\n",
       "    .dataframe tbody tr th:only-of-type {\n",
       "        vertical-align: middle;\n",
       "    }\n",
       "\n",
       "    .dataframe tbody tr th {\n",
       "        vertical-align: top;\n",
       "    }\n",
       "\n",
       "    .dataframe thead th {\n",
       "        text-align: right;\n",
       "    }\n",
       "</style>\n",
       "<table border=\"1\" class=\"dataframe\">\n",
       "  <thead>\n",
       "    <tr style=\"text-align: right;\">\n",
       "      <th></th>\n",
       "      <th>OrderDate</th>\n",
       "      <th>OrderID</th>\n",
       "      <th>Delivery Date</th>\n",
       "      <th>CustomerID</th>\n",
       "      <th>Customer Age</th>\n",
       "      <th>Customer Gender</th>\n",
       "      <th>Location</th>\n",
       "      <th>Zone</th>\n",
       "      <th>Delivery Type</th>\n",
       "      <th>Product Category</th>\n",
       "      <th>SubCategory</th>\n",
       "      <th>Product</th>\n",
       "      <th>Unit Price</th>\n",
       "      <th>Shipping Fee</th>\n",
       "      <th>Order Quantity</th>\n",
       "      <th>Sale Price</th>\n",
       "      <th>Status</th>\n",
       "      <th>Reason</th>\n",
       "      <th>Rating</th>\n",
       "    </tr>\n",
       "  </thead>\n",
       "  <tbody>\n",
       "    <tr>\n",
       "      <th>0</th>\n",
       "      <td>5/31/2020</td>\n",
       "      <td>5136486</td>\n",
       "      <td>6/4/2020</td>\n",
       "      <td>230569424</td>\n",
       "      <td>57</td>\n",
       "      <td>M</td>\n",
       "      <td>Western</td>\n",
       "      <td>Zone 3</td>\n",
       "      <td>Express</td>\n",
       "      <td>Fashion</td>\n",
       "      <td>Girl's fashion</td>\n",
       "      <td>Fashion Girl's Dress Kids Children Newborn Bab...</td>\n",
       "      <td>125.00</td>\n",
       "      <td>10.0</td>\n",
       "      <td>2</td>\n",
       "      <td>125.0</td>\n",
       "      <td>Returned</td>\n",
       "      <td>Onsite -Description mismatch</td>\n",
       "      <td>2</td>\n",
       "    </tr>\n",
       "    <tr>\n",
       "      <th>1</th>\n",
       "      <td>5/31/2020</td>\n",
       "      <td>5136457</td>\n",
       "      <td>6/12/2020</td>\n",
       "      <td>230568182</td>\n",
       "      <td>24</td>\n",
       "      <td>F</td>\n",
       "      <td>Western</td>\n",
       "      <td>Zone 3</td>\n",
       "      <td>Standard Delivery</td>\n",
       "      <td>Health and beauty</td>\n",
       "      <td>Medical supplies and Equipment</td>\n",
       "      <td>Blood Pressure Monitor Digital Wrist BP Pulse ...</td>\n",
       "      <td>63.20</td>\n",
       "      <td>4.0</td>\n",
       "      <td>7</td>\n",
       "      <td>63.2</td>\n",
       "      <td>Returned</td>\n",
       "      <td>Product - Not fitting expectation</td>\n",
       "      <td>2</td>\n",
       "    </tr>\n",
       "    <tr>\n",
       "      <th>2</th>\n",
       "      <td>5/31/2020</td>\n",
       "      <td>5136465</td>\n",
       "      <td>6/10/2020</td>\n",
       "      <td>230567584</td>\n",
       "      <td>31</td>\n",
       "      <td>M</td>\n",
       "      <td>Weija</td>\n",
       "      <td>Zone 2</td>\n",
       "      <td>Standard Delivery</td>\n",
       "      <td>Health and beauty</td>\n",
       "      <td>Medical supplies and Equipment</td>\n",
       "      <td>Portable Blood Pressure Monitor - White</td>\n",
       "      <td>102.00</td>\n",
       "      <td>6.0</td>\n",
       "      <td>10</td>\n",
       "      <td>102.0</td>\n",
       "      <td>Delivered</td>\n",
       "      <td>NaN</td>\n",
       "      <td>3</td>\n",
       "    </tr>\n",
       "    <tr>\n",
       "      <th>3</th>\n",
       "      <td>5/31/2020</td>\n",
       "      <td>5136488</td>\n",
       "      <td>6/5/2020</td>\n",
       "      <td>230563788</td>\n",
       "      <td>62</td>\n",
       "      <td>F</td>\n",
       "      <td>Greater Accra</td>\n",
       "      <td>Zone 1</td>\n",
       "      <td>Express</td>\n",
       "      <td>Phones and Tablet</td>\n",
       "      <td>Mobile phones</td>\n",
       "      <td>Samsung A3 Core Dual SIM - 16GB HDD - 1GB RAM ...</td>\n",
       "      <td>387.00</td>\n",
       "      <td>7.0</td>\n",
       "      <td>7</td>\n",
       "      <td>387.0</td>\n",
       "      <td>Delivered</td>\n",
       "      <td>NaN</td>\n",
       "      <td>1</td>\n",
       "    </tr>\n",
       "    <tr>\n",
       "      <th>4</th>\n",
       "      <td>5/31/2020</td>\n",
       "      <td>5136449</td>\n",
       "      <td>6/10/2020</td>\n",
       "      <td>230563726</td>\n",
       "      <td>18</td>\n",
       "      <td>F</td>\n",
       "      <td>Weija</td>\n",
       "      <td>Zone 2</td>\n",
       "      <td>Shipped from Abroad</td>\n",
       "      <td>Fashion</td>\n",
       "      <td>Boy's fashion</td>\n",
       "      <td>Boys Sneakers Casual Kids Sports Shoes-Gold</td>\n",
       "      <td>120.00</td>\n",
       "      <td>12.0</td>\n",
       "      <td>9</td>\n",
       "      <td>120.0</td>\n",
       "      <td>Delivered</td>\n",
       "      <td>NaN</td>\n",
       "      <td>3</td>\n",
       "    </tr>\n",
       "  </tbody>\n",
       "</table>\n",
       "</div>"
      ],
      "text/plain": [
       "   OrderDate  OrderID Delivery Date  CustomerID  Customer Age Customer Gender  \\\n",
       "0  5/31/2020  5136486      6/4/2020   230569424            57               M   \n",
       "1  5/31/2020  5136457     6/12/2020   230568182            24               F   \n",
       "2  5/31/2020  5136465     6/10/2020   230567584            31               M   \n",
       "3  5/31/2020  5136488      6/5/2020   230563788            62               F   \n",
       "4  5/31/2020  5136449     6/10/2020   230563726            18               F   \n",
       "\n",
       "        Location    Zone        Delivery Type   Product Category  \\\n",
       "0        Western  Zone 3              Express            Fashion   \n",
       "1        Western  Zone 3    Standard Delivery  Health and beauty   \n",
       "2          Weija  Zone 2    Standard Delivery  Health and beauty   \n",
       "3  Greater Accra  Zone 1              Express  Phones and Tablet   \n",
       "4          Weija  Zone 2  Shipped from Abroad            Fashion   \n",
       "\n",
       "                      SubCategory  \\\n",
       "0                  Girl's fashion   \n",
       "1  Medical supplies and Equipment   \n",
       "2  Medical supplies and Equipment   \n",
       "3                   Mobile phones   \n",
       "4                   Boy's fashion   \n",
       "\n",
       "                                             Product Unit Price  Shipping Fee  \\\n",
       "0  Fashion Girl's Dress Kids Children Newborn Bab...    125.00           10.0   \n",
       "1  Blood Pressure Monitor Digital Wrist BP Pulse ...     63.20            4.0   \n",
       "2            Portable Blood Pressure Monitor - White    102.00            6.0   \n",
       "3  Samsung A3 Core Dual SIM - 16GB HDD - 1GB RAM ...    387.00            7.0   \n",
       "4        Boys Sneakers Casual Kids Sports Shoes-Gold    120.00           12.0   \n",
       "\n",
       "   Order Quantity  Sale Price     Status                             Reason  \\\n",
       "0               2       125.0   Returned       Onsite -Description mismatch   \n",
       "1               7        63.2   Returned  Product - Not fitting expectation   \n",
       "2              10       102.0  Delivered                                NaN   \n",
       "3               7       387.0  Delivered                                NaN   \n",
       "4               9       120.0  Delivered                                NaN   \n",
       "\n",
       "   Rating  \n",
       "0       2  \n",
       "1       2  \n",
       "2       3  \n",
       "3       1  \n",
       "4       3  "
      ]
     },
     "execution_count": 3,
     "metadata": {},
     "output_type": "execute_result"
    }
   ],
   "source": [
    "df = pd.read_csv('./dataset/festman_ecommerce.csv')\n",
    "df.head()"
   ]
  },
  {
   "cell_type": "code",
   "execution_count": 8,
   "id": "c6f681bd-02cd-41e3-872f-4064283b3709",
   "metadata": {},
   "outputs": [],
   "source": [
    "df.drop(['OrderID','CustomerID'], axis=1, inplace=True)"
   ]
  },
  {
   "cell_type": "code",
   "execution_count": 12,
   "id": "b287a49f-e2f0-4168-a9c1-74e408235b3d",
   "metadata": {},
   "outputs": [
    {
     "name": "stdout",
     "output_type": "stream",
     "text": [
      "<class 'pandas.core.frame.DataFrame'>\n",
      "RangeIndex: 113000 entries, 0 to 112999\n",
      "Data columns (total 17 columns):\n",
      " #   Column            Non-Null Count   Dtype  \n",
      "---  ------            --------------   -----  \n",
      " 0   OrderDate         113000 non-null  object \n",
      " 1   Delivery Date     113000 non-null  object \n",
      " 2   Customer Age      113000 non-null  int64  \n",
      " 3   Customer Gender   113000 non-null  object \n",
      " 4   Location          113000 non-null  object \n",
      " 5   Zone              113000 non-null  object \n",
      " 6   Delivery Type     113000 non-null  object \n",
      " 7   Product Category  113000 non-null  object \n",
      " 8   SubCategory       113000 non-null  object \n",
      " 9   Product           113000 non-null  object \n",
      " 10  Unit Price        113000 non-null  object \n",
      " 11  Shipping Fee      113000 non-null  float64\n",
      " 12  Order Quantity    113000 non-null  int64  \n",
      " 13  Sale Price        113000 non-null  float64\n",
      " 14  Status            113000 non-null  object \n",
      " 15  Reason            29645 non-null   object \n",
      " 16  Rating            113000 non-null  int64  \n",
      "dtypes: float64(2), int64(3), object(12)\n",
      "memory usage: 14.7+ MB\n"
     ]
    }
   ],
   "source": [
    "df.info()"
   ]
  },
  {
   "cell_type": "code",
   "execution_count": 13,
   "id": "3fae956a-b0cd-4462-9777-f55df55a2b5f",
   "metadata": {},
   "outputs": [],
   "source": [
    "df['OrderDate'] = pd.to_datetime(df['OrderDate'])"
   ]
  },
  {
   "cell_type": "code",
   "execution_count": 14,
   "id": "b53d57ac-97a0-4262-a6eb-66e1ae263e2c",
   "metadata": {},
   "outputs": [],
   "source": [
    "df['Delivery Date'] = pd.to_datetime(df['Delivery Date'])"
   ]
  },
  {
   "cell_type": "code",
   "execution_count": 15,
   "id": "261814ee-45b7-4796-9825-c2c3ec0a0cb7",
   "metadata": {},
   "outputs": [
    {
     "name": "stdout",
     "output_type": "stream",
     "text": [
      "<class 'pandas.core.frame.DataFrame'>\n",
      "RangeIndex: 113000 entries, 0 to 112999\n",
      "Data columns (total 17 columns):\n",
      " #   Column            Non-Null Count   Dtype         \n",
      "---  ------            --------------   -----         \n",
      " 0   OrderDate         113000 non-null  datetime64[ns]\n",
      " 1   Delivery Date     113000 non-null  datetime64[ns]\n",
      " 2   Customer Age      113000 non-null  int64         \n",
      " 3   Customer Gender   113000 non-null  object        \n",
      " 4   Location          113000 non-null  object        \n",
      " 5   Zone              113000 non-null  object        \n",
      " 6   Delivery Type     113000 non-null  object        \n",
      " 7   Product Category  113000 non-null  object        \n",
      " 8   SubCategory       113000 non-null  object        \n",
      " 9   Product           113000 non-null  object        \n",
      " 10  Unit Price        113000 non-null  object        \n",
      " 11  Shipping Fee      113000 non-null  float64       \n",
      " 12  Order Quantity    113000 non-null  int64         \n",
      " 13  Sale Price        113000 non-null  float64       \n",
      " 14  Status            113000 non-null  object        \n",
      " 15  Reason            29645 non-null   object        \n",
      " 16  Rating            113000 non-null  int64         \n",
      "dtypes: datetime64[ns](2), float64(2), int64(3), object(10)\n",
      "memory usage: 14.7+ MB\n"
     ]
    }
   ],
   "source": [
    "df.info()"
   ]
  },
  {
   "cell_type": "code",
   "execution_count": 16,
   "id": "ca6509bb-a42e-4166-903b-684e44bb1c14",
   "metadata": {},
   "outputs": [
    {
     "data": {
      "text/plain": [
       "Index(['OrderDate', 'Delivery Date', 'Customer Age', 'Customer Gender',\n",
       "       'Location', 'Zone', 'Delivery Type', 'Product Category', 'SubCategory',\n",
       "       'Product', 'Unit Price', 'Shipping Fee', 'Order Quantity', 'Sale Price',\n",
       "       'Status', 'Reason', 'Rating'],\n",
       "      dtype='object')"
      ]
     },
     "metadata": {},
     "output_type": "display_data"
    },
    {
     "name": "stdout",
     "output_type": "stream",
     "text": [
      "\n",
      "Number of columns: 17\n"
     ]
    }
   ],
   "source": [
    "display(df.columns)\n",
    "print(f\"\\nNumber of columns: {len(df.columns)}\")"
   ]
  },
  {
   "cell_type": "code",
   "execution_count": 17,
   "id": "b69cdbbb-9e79-4083-8cc0-da3405fb3383",
   "metadata": {},
   "outputs": [
    {
     "data": {
      "text/plain": [
       "array([\"Fashion Girl's Dress Kids Children Newborn Baby Dinner Party Princess Dress Ball Gown\",\n",
       "       'Blood Pressure Monitor Digital Wrist BP Pulse Monitor Meter Heart Rate Measure',\n",
       "       'Portable Blood Pressure Monitor - White',\n",
       "       'Samsung A3 Core Dual SIM - 16GB HDD - 1GB RAM - Blue',\n",
       "       'Boys Sneakers Casual Kids Sports Shoes-Gold',\n",
       "       'Triple Power C20 Super Bass USB Bluetooth Subwoofer - Brown + free S530 V4.0 Bluetooth Headset - Black',\n",
       "       \"Fashion Girls' Patent Leather Stitching Shoes - Black\",\n",
       "       'Fragrance World Smart Black Eau de Parfum Spray - 100ml',\n",
       "       'Amazon Fire HD 8 Kids Tablet 32GB HDD - 2GB RAM - 8\" Blue',\n",
       "       'Samsung Galaxy A02 - 64GB HDD - 3GB RAM Smartphone - Black',\n",
       "       'Yazole Analog Quartz Wrist Watch - Black',\n",
       "       'voice blood Pressure Monitor Digital BP Pulse Health Vascular Heartbeat Test',\n",
       "       'Short Sleeve Polo Shirt - Royal Blue',\n",
       "       'Canon EOS 60D CMOS DSLR Camera Bundle - 18 - 55mm Lens - Black',\n",
       "       'Canon EOS 600D 18MP CMOS DSLR Camera - Black',\n",
       "       'Infinix Smart HD X612 (2021) - 32GB HDD - 2GB RAM - Black',\n",
       "       'Avon Soft Musk Eau de Toilette Spray - 50ml',\n",
       "       'Maze Batik Designed 3D Wallpaper - 10M - White/Black',\n",
       "       'Heat Resistant Glass Storage Bowl - 15 Pieces Multicolour',\n",
       "       'L A Girl Pro Coverage HD Illuminating Liquid Foundation - Coffee',\n",
       "       'Hemani Ultra Slim Tea - 10 Bags',\n",
       "       \"10.1'' Business Tablet with MT6582 Quad-Core Processor\",\n",
       "       'Sports Pants - Black',\n",
       "       'Fashion 4-Piece Leather HandBag Set - Black',\n",
       "       'Potluck Lunch Box - Brown',\n",
       "       'Muscle Stimulators - Abdominal Muscle Trainer Set - Fitness',\n",
       "       'Trust Leather Buckle Shoes - Black',\n",
       "       '8 Cubes Plastic Wardrobe - Blue/White',\n",
       "       '6030 3.1 Bluetooth Home Theatre With Remote Control - Black + Free Smartwatch',\n",
       "       'Yazole Leather Wrist Watch - Black',\n",
       "       'B5 HiFi 5.0 Ture Wireless Headsets Auto Pair Touch - Black',\n",
       "       'Aichun Beauty Eight Pack Essential Oil - 30ml',\n",
       "       'Lindy 12 Cubes Wardrobe 8 Doors - Brown',\n",
       "       'M4 Smart Bracelet Sports Pedometer Watch',\n",
       "       'Clere Avocado Milk Body Lotion With Vitamins E+A - 400ml',\n",
       "       'Vida Divina TeDivina (Detox Tea Formula) - 1 Tea Bag',\n",
       "       'Cq Amaigrissant Slimming Tea - 20 Tea Bags',\n",
       "       'Plastic Storage Bowl - 17 Pieces Green',\n",
       "       'Optimum Nutrition Creatine Sports - 5000mg per Daily Serve Powder',\n",
       "       'Fashion Boys Sneakers Children Outdoor Shoes-Black',\n",
       "       '100%Cotton 4 Piece Short Sleeve T-Shirts - Multicolour',\n",
       "       'Clere Radiance Oil Control Toner - 100ml',\n",
       "       'Leather Vintage Bracelet Watch - Black',\n",
       "       'Slip On Leather Sneakers - Black'], dtype=object)"
      ]
     },
     "metadata": {},
     "output_type": "display_data"
    },
    {
     "name": "stdout",
     "output_type": "stream",
     "text": [
      "\n",
      "Number of unique products: 44\n"
     ]
    }
   ],
   "source": [
    "display(df.Product.unique())\n",
    "print(f\"\\nNumber of unique products: {len(df.Product.unique())}\")"
   ]
  },
  {
   "cell_type": "code",
   "execution_count": 20,
   "id": "be612be7-69de-4b6e-b6a7-b1f4d5185c6f",
   "metadata": {},
   "outputs": [
    {
     "data": {
      "text/plain": [
       "array(['Fashion', 'Health and beauty', 'Phones and Tablet', 'Electronics',\n",
       "       'Home and Office'], dtype=object)"
      ]
     },
     "metadata": {},
     "output_type": "display_data"
    },
    {
     "name": "stdout",
     "output_type": "stream",
     "text": [
      "\n",
      "Number of unique products categories: 5\n"
     ]
    }
   ],
   "source": [
    "display(df['Product Category'].unique())\n",
    "print(f\"\\nNumber of unique products categories: {len(df['Product Category'].unique())}\")"
   ]
  },
  {
   "cell_type": "code",
   "execution_count": 21,
   "id": "2158ecef-db66-45af-88ca-7398febb1161",
   "metadata": {},
   "outputs": [
    {
     "data": {
      "text/plain": [
       "array([\"Girl's fashion\", 'Medical supplies and Equipment',\n",
       "       'Mobile phones', \"Boy's fashion\", 'Home Audio', 'Fragrances',\n",
       "       'Tablets', \"Men's fashion\", 'Digital Cameras',\n",
       "       'Tools and Home Improvement', 'Kitchen and dinning',\n",
       "       'Beauty and personal care', 'Vitamins & Dietary Supplements',\n",
       "       \"Women's fashion\", 'Home and Furniture', 'Mobile accessories'],\n",
       "      dtype=object)"
      ]
     },
     "metadata": {},
     "output_type": "display_data"
    },
    {
     "name": "stdout",
     "output_type": "stream",
     "text": [
      "\n",
      "Number of unique products subcategories: 16\n"
     ]
    }
   ],
   "source": [
    "display(df['SubCategory'].unique())\n",
    "print(f\"\\nNumber of unique products subcategories: {len(df['SubCategory'].unique())}\")"
   ]
  },
  {
   "cell_type": "code",
   "execution_count": null,
   "id": "635d5dc9-b105-4686-822d-7bc6b2b59a09",
   "metadata": {},
   "outputs": [],
   "source": []
  }
 ],
 "metadata": {
  "kernelspec": {
   "display_name": "Python 3",
   "language": "python",
   "name": "python3"
  },
  "language_info": {
   "codemirror_mode": {
    "name": "ipython",
    "version": 3
   },
   "file_extension": ".py",
   "mimetype": "text/x-python",
   "name": "python",
   "nbconvert_exporter": "python",
   "pygments_lexer": "ipython3",
   "version": "3.8.10"
  }
 },
 "nbformat": 4,
 "nbformat_minor": 5
}
