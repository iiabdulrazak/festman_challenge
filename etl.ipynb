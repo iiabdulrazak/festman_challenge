{
 "cells": [
  {
   "cell_type": "code",
   "execution_count": 4,
   "id": "e579125f-83b0-4727-9295-8bd8646c32f6",
   "metadata": {},
   "outputs": [],
   "source": [
    "import pandas as pd"
   ]
  },
  {
   "cell_type": "code",
   "execution_count": 5,
   "id": "b576e1b4-b3e2-42c7-b4ba-ded4b389503e",
   "metadata": {},
   "outputs": [
    {
     "data": {
      "text/html": [
       "<div>\n",
       "<style scoped>\n",
       "    .dataframe tbody tr th:only-of-type {\n",
       "        vertical-align: middle;\n",
       "    }\n",
       "\n",
       "    .dataframe tbody tr th {\n",
       "        vertical-align: top;\n",
       "    }\n",
       "\n",
       "    .dataframe thead th {\n",
       "        text-align: right;\n",
       "    }\n",
       "</style>\n",
       "<table border=\"1\" class=\"dataframe\">\n",
       "  <thead>\n",
       "    <tr style=\"text-align: right;\">\n",
       "      <th></th>\n",
       "      <th>OrderDate</th>\n",
       "      <th>OrderID</th>\n",
       "      <th>Delivery Date</th>\n",
       "      <th>CustomerID</th>\n",
       "      <th>Customer Age</th>\n",
       "      <th>Customer Gender</th>\n",
       "      <th>Location</th>\n",
       "      <th>Zone</th>\n",
       "      <th>Delivery Type</th>\n",
       "      <th>Product Category</th>\n",
       "      <th>SubCategory</th>\n",
       "      <th>Product</th>\n",
       "      <th>Unit Price</th>\n",
       "      <th>Shipping Fee</th>\n",
       "      <th>Order Quantity</th>\n",
       "      <th>Sale Price</th>\n",
       "      <th>Status</th>\n",
       "      <th>Reason</th>\n",
       "      <th>Rating</th>\n",
       "    </tr>\n",
       "  </thead>\n",
       "  <tbody>\n",
       "    <tr>\n",
       "      <th>0</th>\n",
       "      <td>5/31/2020</td>\n",
       "      <td>5136486</td>\n",
       "      <td>6/4/2020</td>\n",
       "      <td>230569424</td>\n",
       "      <td>57</td>\n",
       "      <td>M</td>\n",
       "      <td>Western</td>\n",
       "      <td>Zone 3</td>\n",
       "      <td>Express</td>\n",
       "      <td>Fashion</td>\n",
       "      <td>Girl's fashion</td>\n",
       "      <td>Fashion Girl's Dress Kids Children Newborn Bab...</td>\n",
       "      <td>125.00</td>\n",
       "      <td>10.0</td>\n",
       "      <td>2</td>\n",
       "      <td>125.0</td>\n",
       "      <td>Returned</td>\n",
       "      <td>Onsite -Description mismatch</td>\n",
       "      <td>2</td>\n",
       "    </tr>\n",
       "    <tr>\n",
       "      <th>1</th>\n",
       "      <td>5/31/2020</td>\n",
       "      <td>5136457</td>\n",
       "      <td>6/12/2020</td>\n",
       "      <td>230568182</td>\n",
       "      <td>24</td>\n",
       "      <td>F</td>\n",
       "      <td>Western</td>\n",
       "      <td>Zone 3</td>\n",
       "      <td>Standard Delivery</td>\n",
       "      <td>Health and beauty</td>\n",
       "      <td>Medical supplies and Equipment</td>\n",
       "      <td>Blood Pressure Monitor Digital Wrist BP Pulse ...</td>\n",
       "      <td>63.20</td>\n",
       "      <td>4.0</td>\n",
       "      <td>7</td>\n",
       "      <td>63.2</td>\n",
       "      <td>Returned</td>\n",
       "      <td>Product - Not fitting expectation</td>\n",
       "      <td>2</td>\n",
       "    </tr>\n",
       "    <tr>\n",
       "      <th>2</th>\n",
       "      <td>5/31/2020</td>\n",
       "      <td>5136465</td>\n",
       "      <td>6/10/2020</td>\n",
       "      <td>230567584</td>\n",
       "      <td>31</td>\n",
       "      <td>M</td>\n",
       "      <td>Weija</td>\n",
       "      <td>Zone 2</td>\n",
       "      <td>Standard Delivery</td>\n",
       "      <td>Health and beauty</td>\n",
       "      <td>Medical supplies and Equipment</td>\n",
       "      <td>Portable Blood Pressure Monitor - White</td>\n",
       "      <td>102.00</td>\n",
       "      <td>6.0</td>\n",
       "      <td>10</td>\n",
       "      <td>102.0</td>\n",
       "      <td>Delivered</td>\n",
       "      <td>NaN</td>\n",
       "      <td>3</td>\n",
       "    </tr>\n",
       "    <tr>\n",
       "      <th>3</th>\n",
       "      <td>5/31/2020</td>\n",
       "      <td>5136488</td>\n",
       "      <td>6/5/2020</td>\n",
       "      <td>230563788</td>\n",
       "      <td>62</td>\n",
       "      <td>F</td>\n",
       "      <td>Greater Accra</td>\n",
       "      <td>Zone 1</td>\n",
       "      <td>Express</td>\n",
       "      <td>Phones and Tablet</td>\n",
       "      <td>Mobile phones</td>\n",
       "      <td>Samsung A3 Core Dual SIM - 16GB HDD - 1GB RAM ...</td>\n",
       "      <td>387.00</td>\n",
       "      <td>7.0</td>\n",
       "      <td>7</td>\n",
       "      <td>387.0</td>\n",
       "      <td>Delivered</td>\n",
       "      <td>NaN</td>\n",
       "      <td>1</td>\n",
       "    </tr>\n",
       "    <tr>\n",
       "      <th>4</th>\n",
       "      <td>5/31/2020</td>\n",
       "      <td>5136449</td>\n",
       "      <td>6/10/2020</td>\n",
       "      <td>230563726</td>\n",
       "      <td>18</td>\n",
       "      <td>F</td>\n",
       "      <td>Weija</td>\n",
       "      <td>Zone 2</td>\n",
       "      <td>Shipped from Abroad</td>\n",
       "      <td>Fashion</td>\n",
       "      <td>Boy's fashion</td>\n",
       "      <td>Boys Sneakers Casual Kids Sports Shoes-Gold</td>\n",
       "      <td>120.00</td>\n",
       "      <td>12.0</td>\n",
       "      <td>9</td>\n",
       "      <td>120.0</td>\n",
       "      <td>Delivered</td>\n",
       "      <td>NaN</td>\n",
       "      <td>3</td>\n",
       "    </tr>\n",
       "  </tbody>\n",
       "</table>\n",
       "</div>"
      ],
      "text/plain": [
       "   OrderDate  OrderID Delivery Date  CustomerID  Customer Age Customer Gender  \\\n",
       "0  5/31/2020  5136486      6/4/2020   230569424            57               M   \n",
       "1  5/31/2020  5136457     6/12/2020   230568182            24               F   \n",
       "2  5/31/2020  5136465     6/10/2020   230567584            31               M   \n",
       "3  5/31/2020  5136488      6/5/2020   230563788            62               F   \n",
       "4  5/31/2020  5136449     6/10/2020   230563726            18               F   \n",
       "\n",
       "        Location    Zone        Delivery Type   Product Category  \\\n",
       "0        Western  Zone 3              Express            Fashion   \n",
       "1        Western  Zone 3    Standard Delivery  Health and beauty   \n",
       "2          Weija  Zone 2    Standard Delivery  Health and beauty   \n",
       "3  Greater Accra  Zone 1              Express  Phones and Tablet   \n",
       "4          Weija  Zone 2  Shipped from Abroad            Fashion   \n",
       "\n",
       "                      SubCategory  \\\n",
       "0                  Girl's fashion   \n",
       "1  Medical supplies and Equipment   \n",
       "2  Medical supplies and Equipment   \n",
       "3                   Mobile phones   \n",
       "4                   Boy's fashion   \n",
       "\n",
       "                                             Product Unit Price  Shipping Fee  \\\n",
       "0  Fashion Girl's Dress Kids Children Newborn Bab...    125.00           10.0   \n",
       "1  Blood Pressure Monitor Digital Wrist BP Pulse ...     63.20            4.0   \n",
       "2            Portable Blood Pressure Monitor - White    102.00            6.0   \n",
       "3  Samsung A3 Core Dual SIM - 16GB HDD - 1GB RAM ...    387.00            7.0   \n",
       "4        Boys Sneakers Casual Kids Sports Shoes-Gold    120.00           12.0   \n",
       "\n",
       "   Order Quantity  Sale Price     Status                             Reason  \\\n",
       "0               2       125.0   Returned       Onsite -Description mismatch   \n",
       "1               7        63.2   Returned  Product - Not fitting expectation   \n",
       "2              10       102.0  Delivered                                NaN   \n",
       "3               7       387.0  Delivered                                NaN   \n",
       "4               9       120.0  Delivered                                NaN   \n",
       "\n",
       "   Rating  \n",
       "0       2  \n",
       "1       2  \n",
       "2       3  \n",
       "3       1  \n",
       "4       3  "
      ]
     },
     "execution_count": 5,
     "metadata": {},
     "output_type": "execute_result"
    }
   ],
   "source": [
    "df = pd.read_csv('./dataset/festman_ecommerce.csv')\n",
    "df.head()"
   ]
  },
  {
   "cell_type": "code",
   "execution_count": 6,
   "id": "c6f681bd-02cd-41e3-872f-4064283b3709",
   "metadata": {},
   "outputs": [
    {
     "data": {
      "text/html": [
       "<div>\n",
       "<style scoped>\n",
       "    .dataframe tbody tr th:only-of-type {\n",
       "        vertical-align: middle;\n",
       "    }\n",
       "\n",
       "    .dataframe tbody tr th {\n",
       "        vertical-align: top;\n",
       "    }\n",
       "\n",
       "    .dataframe thead th {\n",
       "        text-align: right;\n",
       "    }\n",
       "</style>\n",
       "<table border=\"1\" class=\"dataframe\">\n",
       "  <thead>\n",
       "    <tr style=\"text-align: right;\">\n",
       "      <th></th>\n",
       "      <th>order_date</th>\n",
       "      <th>order_id</th>\n",
       "      <th>delivery_date</th>\n",
       "      <th>customer_id</th>\n",
       "      <th>customer_age</th>\n",
       "      <th>customer_gender</th>\n",
       "      <th>location</th>\n",
       "      <th>zone</th>\n",
       "      <th>delivery_type</th>\n",
       "      <th>product_category</th>\n",
       "      <th>sub_category</th>\n",
       "      <th>product</th>\n",
       "      <th>unit_price</th>\n",
       "      <th>shipping_fee</th>\n",
       "      <th>order_quantity</th>\n",
       "      <th>sale_price</th>\n",
       "      <th>status</th>\n",
       "      <th>reason</th>\n",
       "      <th>rating</th>\n",
       "    </tr>\n",
       "  </thead>\n",
       "  <tbody>\n",
       "    <tr>\n",
       "      <th>0</th>\n",
       "      <td>5/31/2020</td>\n",
       "      <td>5136486</td>\n",
       "      <td>6/4/2020</td>\n",
       "      <td>230569424</td>\n",
       "      <td>57</td>\n",
       "      <td>M</td>\n",
       "      <td>Western</td>\n",
       "      <td>Zone 3</td>\n",
       "      <td>Express</td>\n",
       "      <td>Fashion</td>\n",
       "      <td>Girl's fashion</td>\n",
       "      <td>Fashion Girl's Dress Kids Children Newborn Bab...</td>\n",
       "      <td>125.00</td>\n",
       "      <td>10.0</td>\n",
       "      <td>2</td>\n",
       "      <td>125.0</td>\n",
       "      <td>Returned</td>\n",
       "      <td>Onsite -Description mismatch</td>\n",
       "      <td>2</td>\n",
       "    </tr>\n",
       "    <tr>\n",
       "      <th>1</th>\n",
       "      <td>5/31/2020</td>\n",
       "      <td>5136457</td>\n",
       "      <td>6/12/2020</td>\n",
       "      <td>230568182</td>\n",
       "      <td>24</td>\n",
       "      <td>F</td>\n",
       "      <td>Western</td>\n",
       "      <td>Zone 3</td>\n",
       "      <td>Standard Delivery</td>\n",
       "      <td>Health and beauty</td>\n",
       "      <td>Medical supplies and Equipment</td>\n",
       "      <td>Blood Pressure Monitor Digital Wrist BP Pulse ...</td>\n",
       "      <td>63.20</td>\n",
       "      <td>4.0</td>\n",
       "      <td>7</td>\n",
       "      <td>63.2</td>\n",
       "      <td>Returned</td>\n",
       "      <td>Product - Not fitting expectation</td>\n",
       "      <td>2</td>\n",
       "    </tr>\n",
       "    <tr>\n",
       "      <th>2</th>\n",
       "      <td>5/31/2020</td>\n",
       "      <td>5136465</td>\n",
       "      <td>6/10/2020</td>\n",
       "      <td>230567584</td>\n",
       "      <td>31</td>\n",
       "      <td>M</td>\n",
       "      <td>Weija</td>\n",
       "      <td>Zone 2</td>\n",
       "      <td>Standard Delivery</td>\n",
       "      <td>Health and beauty</td>\n",
       "      <td>Medical supplies and Equipment</td>\n",
       "      <td>Portable Blood Pressure Monitor - White</td>\n",
       "      <td>102.00</td>\n",
       "      <td>6.0</td>\n",
       "      <td>10</td>\n",
       "      <td>102.0</td>\n",
       "      <td>Delivered</td>\n",
       "      <td>NaN</td>\n",
       "      <td>3</td>\n",
       "    </tr>\n",
       "    <tr>\n",
       "      <th>3</th>\n",
       "      <td>5/31/2020</td>\n",
       "      <td>5136488</td>\n",
       "      <td>6/5/2020</td>\n",
       "      <td>230563788</td>\n",
       "      <td>62</td>\n",
       "      <td>F</td>\n",
       "      <td>Greater Accra</td>\n",
       "      <td>Zone 1</td>\n",
       "      <td>Express</td>\n",
       "      <td>Phones and Tablet</td>\n",
       "      <td>Mobile phones</td>\n",
       "      <td>Samsung A3 Core Dual SIM - 16GB HDD - 1GB RAM ...</td>\n",
       "      <td>387.00</td>\n",
       "      <td>7.0</td>\n",
       "      <td>7</td>\n",
       "      <td>387.0</td>\n",
       "      <td>Delivered</td>\n",
       "      <td>NaN</td>\n",
       "      <td>1</td>\n",
       "    </tr>\n",
       "    <tr>\n",
       "      <th>4</th>\n",
       "      <td>5/31/2020</td>\n",
       "      <td>5136449</td>\n",
       "      <td>6/10/2020</td>\n",
       "      <td>230563726</td>\n",
       "      <td>18</td>\n",
       "      <td>F</td>\n",
       "      <td>Weija</td>\n",
       "      <td>Zone 2</td>\n",
       "      <td>Shipped from Abroad</td>\n",
       "      <td>Fashion</td>\n",
       "      <td>Boy's fashion</td>\n",
       "      <td>Boys Sneakers Casual Kids Sports Shoes-Gold</td>\n",
       "      <td>120.00</td>\n",
       "      <td>12.0</td>\n",
       "      <td>9</td>\n",
       "      <td>120.0</td>\n",
       "      <td>Delivered</td>\n",
       "      <td>NaN</td>\n",
       "      <td>3</td>\n",
       "    </tr>\n",
       "  </tbody>\n",
       "</table>\n",
       "</div>"
      ],
      "text/plain": [
       "  order_date  order_id delivery_date  customer_id  customer_age  \\\n",
       "0  5/31/2020   5136486      6/4/2020    230569424            57   \n",
       "1  5/31/2020   5136457     6/12/2020    230568182            24   \n",
       "2  5/31/2020   5136465     6/10/2020    230567584            31   \n",
       "3  5/31/2020   5136488      6/5/2020    230563788            62   \n",
       "4  5/31/2020   5136449     6/10/2020    230563726            18   \n",
       "\n",
       "  customer_gender       location    zone        delivery_type  \\\n",
       "0               M        Western  Zone 3              Express   \n",
       "1               F        Western  Zone 3    Standard Delivery   \n",
       "2               M          Weija  Zone 2    Standard Delivery   \n",
       "3               F  Greater Accra  Zone 1              Express   \n",
       "4               F          Weija  Zone 2  Shipped from Abroad   \n",
       "\n",
       "    product_category                    sub_category  \\\n",
       "0            Fashion                  Girl's fashion   \n",
       "1  Health and beauty  Medical supplies and Equipment   \n",
       "2  Health and beauty  Medical supplies and Equipment   \n",
       "3  Phones and Tablet                   Mobile phones   \n",
       "4            Fashion                   Boy's fashion   \n",
       "\n",
       "                                             product unit_price  shipping_fee  \\\n",
       "0  Fashion Girl's Dress Kids Children Newborn Bab...    125.00           10.0   \n",
       "1  Blood Pressure Monitor Digital Wrist BP Pulse ...     63.20            4.0   \n",
       "2            Portable Blood Pressure Monitor - White    102.00            6.0   \n",
       "3  Samsung A3 Core Dual SIM - 16GB HDD - 1GB RAM ...    387.00            7.0   \n",
       "4        Boys Sneakers Casual Kids Sports Shoes-Gold    120.00           12.0   \n",
       "\n",
       "   order_quantity  sale_price     status                             reason  \\\n",
       "0               2       125.0   Returned       Onsite -Description mismatch   \n",
       "1               7        63.2   Returned  Product - Not fitting expectation   \n",
       "2              10       102.0  Delivered                                NaN   \n",
       "3               7       387.0  Delivered                                NaN   \n",
       "4               9       120.0  Delivered                                NaN   \n",
       "\n",
       "   rating  \n",
       "0       2  \n",
       "1       2  \n",
       "2       3  \n",
       "3       1  \n",
       "4       3  "
      ]
     },
     "execution_count": 6,
     "metadata": {},
     "output_type": "execute_result"
    }
   ],
   "source": [
    "df.columns = ['order_date','order_id','delivery_date','customer_id','customer_age','customer_gender','location','zone',\n",
    "              'delivery_type','product_category','sub_category','product','unit_price','shipping_fee','order_quantity',\n",
    "              'sale_price','status','reason','rating']\n",
    "df.head()"
   ]
  },
  {
   "cell_type": "code",
   "execution_count": 7,
   "id": "2bf0e03a-d3cf-4ef2-ad17-c38f4bb81ee4",
   "metadata": {},
   "outputs": [],
   "source": [
    "df.drop(['order_id','customer_id'], axis=1, inplace=True)"
   ]
  },
  {
   "cell_type": "code",
   "execution_count": 8,
   "id": "b287a49f-e2f0-4168-a9c1-74e408235b3d",
   "metadata": {},
   "outputs": [
    {
     "name": "stdout",
     "output_type": "stream",
     "text": [
      "<class 'pandas.core.frame.DataFrame'>\n",
      "RangeIndex: 113000 entries, 0 to 112999\n",
      "Data columns (total 17 columns):\n",
      " #   Column            Non-Null Count   Dtype  \n",
      "---  ------            --------------   -----  \n",
      " 0   order_date        113000 non-null  object \n",
      " 1   delivery_date     113000 non-null  object \n",
      " 2   customer_age      113000 non-null  int64  \n",
      " 3   customer_gender   113000 non-null  object \n",
      " 4   location          113000 non-null  object \n",
      " 5   zone              113000 non-null  object \n",
      " 6   delivery_type     113000 non-null  object \n",
      " 7   product_category  113000 non-null  object \n",
      " 8   sub_category      113000 non-null  object \n",
      " 9   product           113000 non-null  object \n",
      " 10  unit_price        113000 non-null  object \n",
      " 11  shipping_fee      113000 non-null  float64\n",
      " 12  order_quantity    113000 non-null  int64  \n",
      " 13  sale_price        113000 non-null  float64\n",
      " 14  status            113000 non-null  object \n",
      " 15  reason            29645 non-null   object \n",
      " 16  rating            113000 non-null  int64  \n",
      "dtypes: float64(2), int64(3), object(12)\n",
      "memory usage: 14.7+ MB\n"
     ]
    }
   ],
   "source": [
    "df.info()"
   ]
  },
  {
   "cell_type": "code",
   "execution_count": 9,
   "id": "3fae956a-b0cd-4462-9777-f55df55a2b5f",
   "metadata": {},
   "outputs": [],
   "source": [
    "df['order_date'] = pd.to_datetime(df['order_date'])\n",
    "df['delivery_date'] = pd.to_datetime(df['delivery_date'])"
   ]
  },
  {
   "cell_type": "code",
   "execution_count": 10,
   "id": "261814ee-45b7-4796-9825-c2c3ec0a0cb7",
   "metadata": {},
   "outputs": [
    {
     "name": "stdout",
     "output_type": "stream",
     "text": [
      "<class 'pandas.core.frame.DataFrame'>\n",
      "RangeIndex: 113000 entries, 0 to 112999\n",
      "Data columns (total 17 columns):\n",
      " #   Column            Non-Null Count   Dtype         \n",
      "---  ------            --------------   -----         \n",
      " 0   order_date        113000 non-null  datetime64[ns]\n",
      " 1   delivery_date     113000 non-null  datetime64[ns]\n",
      " 2   customer_age      113000 non-null  int64         \n",
      " 3   customer_gender   113000 non-null  object        \n",
      " 4   location          113000 non-null  object        \n",
      " 5   zone              113000 non-null  object        \n",
      " 6   delivery_type     113000 non-null  object        \n",
      " 7   product_category  113000 non-null  object        \n",
      " 8   sub_category      113000 non-null  object        \n",
      " 9   product           113000 non-null  object        \n",
      " 10  unit_price        113000 non-null  object        \n",
      " 11  shipping_fee      113000 non-null  float64       \n",
      " 12  order_quantity    113000 non-null  int64         \n",
      " 13  sale_price        113000 non-null  float64       \n",
      " 14  status            113000 non-null  object        \n",
      " 15  reason            29645 non-null   object        \n",
      " 16  rating            113000 non-null  int64         \n",
      "dtypes: datetime64[ns](2), float64(2), int64(3), object(10)\n",
      "memory usage: 14.7+ MB\n"
     ]
    }
   ],
   "source": [
    "df.info()"
   ]
  },
  {
   "cell_type": "code",
   "execution_count": 11,
   "id": "ca6509bb-a42e-4166-903b-684e44bb1c14",
   "metadata": {},
   "outputs": [
    {
     "data": {
      "text/plain": [
       "Index(['order_date', 'delivery_date', 'customer_age', 'customer_gender',\n",
       "       'location', 'zone', 'delivery_type', 'product_category', 'sub_category',\n",
       "       'product', 'unit_price', 'shipping_fee', 'order_quantity', 'sale_price',\n",
       "       'status', 'reason', 'rating'],\n",
       "      dtype='object')"
      ]
     },
     "metadata": {},
     "output_type": "display_data"
    },
    {
     "name": "stdout",
     "output_type": "stream",
     "text": [
      "\n",
      "Number of columns: 17\n"
     ]
    }
   ],
   "source": [
    "display(df.columns)\n",
    "print(f\"\\nNumber of columns: {len(df.columns)}\")"
   ]
  },
  {
   "cell_type": "code",
   "execution_count": 20,
   "id": "b69cdbbb-9e79-4083-8cc0-da3405fb3383",
   "metadata": {},
   "outputs": [
    {
     "data": {
      "text/plain": [
       "array([\"Fashion Girl's Dress Kids Children Newborn Baby Dinner Party Princess Dress Ball Gown\",\n",
       "       'Blood Pressure Monitor Digital Wrist BP Pulse Monitor Meter Heart Rate Measure',\n",
       "       'Portable Blood Pressure Monitor - White',\n",
       "       'Samsung A3 Core Dual SIM - 16GB HDD - 1GB RAM - Blue',\n",
       "       'Boys Sneakers Casual Kids Sports Shoes-Gold',\n",
       "       'Triple Power C20 Super Bass USB Bluetooth Subwoofer - Brown + free S530 V4.0 Bluetooth Headset - Black',\n",
       "       \"Fashion Girls' Patent Leather Stitching Shoes - Black\",\n",
       "       'Fragrance World Smart Black Eau de Parfum Spray - 100ml',\n",
       "       'Amazon Fire HD 8 Kids Tablet 32GB HDD - 2GB RAM - 8\" Blue',\n",
       "       'Samsung Galaxy A02 - 64GB HDD - 3GB RAM Smartphone - Black',\n",
       "       'Yazole Analog Quartz Wrist Watch - Black',\n",
       "       'voice blood Pressure Monitor Digital BP Pulse Health Vascular Heartbeat Test',\n",
       "       'Short Sleeve Polo Shirt - Royal Blue',\n",
       "       'Canon EOS 60D CMOS DSLR Camera Bundle - 18 - 55mm Lens - Black',\n",
       "       'Canon EOS 600D 18MP CMOS DSLR Camera - Black',\n",
       "       'Infinix Smart HD X612 (2021) - 32GB HDD - 2GB RAM - Black',\n",
       "       'Avon Soft Musk Eau de Toilette Spray - 50ml',\n",
       "       'Maze Batik Designed 3D Wallpaper - 10M - White/Black',\n",
       "       'Heat Resistant Glass Storage Bowl - 15 Pieces Multicolour',\n",
       "       'L A Girl Pro Coverage HD Illuminating Liquid Foundation - Coffee',\n",
       "       'Hemani Ultra Slim Tea - 10 Bags',\n",
       "       \"10.1'' Business Tablet with MT6582 Quad-Core Processor\",\n",
       "       'Sports Pants - Black',\n",
       "       'Fashion 4-Piece Leather HandBag Set - Black',\n",
       "       'Potluck Lunch Box - Brown',\n",
       "       'Muscle Stimulators - Abdominal Muscle Trainer Set - Fitness',\n",
       "       'Trust Leather Buckle Shoes - Black',\n",
       "       '8 Cubes Plastic Wardrobe - Blue/White',\n",
       "       '6030 3.1 Bluetooth Home Theatre With Remote Control - Black + Free Smartwatch',\n",
       "       'Yazole Leather Wrist Watch - Black',\n",
       "       'B5 HiFi 5.0 Ture Wireless Headsets Auto Pair Touch - Black',\n",
       "       'Aichun Beauty Eight Pack Essential Oil - 30ml',\n",
       "       'Lindy 12 Cubes Wardrobe 8 Doors - Brown',\n",
       "       'M4 Smart Bracelet Sports Pedometer Watch',\n",
       "       'Clere Avocado Milk Body Lotion With Vitamins E+A - 400ml',\n",
       "       'Vida Divina TeDivina (Detox Tea Formula) - 1 Tea Bag',\n",
       "       'Cq Amaigrissant Slimming Tea - 20 Tea Bags',\n",
       "       'Plastic Storage Bowl - 17 Pieces Green',\n",
       "       'Optimum Nutrition Creatine Sports - 5000mg per Daily Serve Powder',\n",
       "       'Fashion Boys Sneakers Children Outdoor Shoes-Black',\n",
       "       '100%Cotton 4 Piece Short Sleeve T-Shirts - Multicolour',\n",
       "       'Clere Radiance Oil Control Toner - 100ml',\n",
       "       'Leather Vintage Bracelet Watch - Black',\n",
       "       'Slip On Leather Sneakers - Black'], dtype=object)"
      ]
     },
     "metadata": {},
     "output_type": "display_data"
    },
    {
     "name": "stdout",
     "output_type": "stream",
     "text": [
      "\n",
      "Number of unique products: 44\n"
     ]
    }
   ],
   "source": [
    "display(df['product'].unique())\n",
    "print(f\"\\nNumber of unique products: {len(df['product'].unique())}\")"
   ]
  },
  {
   "cell_type": "code",
   "execution_count": 25,
   "id": "be612be7-69de-4b6e-b6a7-b1f4d5185c6f",
   "metadata": {},
   "outputs": [
    {
     "data": {
      "text/plain": [
       "array(['Fashion', 'Health and beauty', 'Phones and Tablet', 'Electronics',\n",
       "       'Home and Office'], dtype=object)"
      ]
     },
     "metadata": {},
     "output_type": "display_data"
    },
    {
     "name": "stdout",
     "output_type": "stream",
     "text": [
      "\n",
      "Number of unique products_categories: 5\n"
     ]
    }
   ],
   "source": [
    "display(df['product_category'].unique())\n",
    "print(f\"\\nNumber of unique products_categories: {len(df['product_category'].unique())}\")"
   ]
  },
  {
   "cell_type": "code",
   "execution_count": 26,
   "id": "2158ecef-db66-45af-88ca-7398febb1161",
   "metadata": {},
   "outputs": [
    {
     "data": {
      "text/plain": [
       "array([\"Girl's fashion\", 'Medical supplies and Equipment',\n",
       "       'Mobile phones', \"Boy's fashion\", 'Home Audio', 'Fragrances',\n",
       "       'Tablets', \"Men's fashion\", 'Digital Cameras',\n",
       "       'Tools and Home Improvement', 'Kitchen and dinning',\n",
       "       'Beauty and personal care', 'Vitamins & Dietary Supplements',\n",
       "       \"Women's fashion\", 'Home and Furniture', 'Mobile accessories'],\n",
       "      dtype=object)"
      ]
     },
     "metadata": {},
     "output_type": "display_data"
    },
    {
     "name": "stdout",
     "output_type": "stream",
     "text": [
      "\n",
      "Number of unique products sub_categories: 16\n"
     ]
    }
   ],
   "source": [
    "display(df['sub_category'].unique())\n",
    "print(f\"\\nNumber of unique products sub_categories: {len(df['sub_category'].unique())}\")"
   ]
  },
  {
   "cell_type": "code",
   "execution_count": 27,
   "id": "d8efa7c5-9ee4-43cd-9f1d-b927ecd25582",
   "metadata": {},
   "outputs": [
    {
     "data": {
      "text/plain": [
       "array(['Express', 'Standard Delivery', 'Shipped from Abroad'],\n",
       "      dtype=object)"
      ]
     },
     "metadata": {},
     "output_type": "display_data"
    },
    {
     "name": "stdout",
     "output_type": "stream",
     "text": [
      "\n",
      "Number of unique products delivery_type: 3\n"
     ]
    }
   ],
   "source": [
    "display(df['delivery_type'].unique())\n",
    "print(f\"\\nNumber of unique products delivery_type: {len(df['delivery_type'].unique())}\")"
   ]
  },
  {
   "cell_type": "code",
   "execution_count": 40,
   "id": "635d5dc9-b105-4686-822d-7bc6b2b59a09",
   "metadata": {},
   "outputs": [
    {
     "data": {
      "text/plain": [
       "array(['Onsite -Description mismatch',\n",
       "       'Product - Not fitting expectation', nan, 'Delivery-Wrong item',\n",
       "       'Delivey - Missing item/part', 'Quality-Defective item'],\n",
       "      dtype=object)"
      ]
     },
     "metadata": {},
     "output_type": "display_data"
    },
    {
     "name": "stdout",
     "output_type": "stream",
     "text": [
      "\n",
      "Number of unique returning reason: 6\n"
     ]
    }
   ],
   "source": [
    "display(df['reason'].unique())\n",
    "print(f\"\\nNumber of unique returning reason: {len(df['reason'].unique())}\")"
   ]
  },
  {
   "cell_type": "code",
   "execution_count": 41,
   "id": "8f50fa71-f44d-408a-a5dc-9c499522cf70",
   "metadata": {},
   "outputs": [],
   "source": [
    "df['reason'].fillna('Not Added', inplace=True)"
   ]
  },
  {
   "cell_type": "code",
   "execution_count": 44,
   "id": "3cb772b3-3e72-417b-aba4-741ab65414b9",
   "metadata": {},
   "outputs": [
    {
     "data": {
      "text/plain": [
       "array(['Onsite -Description mismatch',\n",
       "       'Product - Not fitting expectation', 'Not Added',\n",
       "       'Delivery-Wrong item', 'Delivey - Missing item/part',\n",
       "       'Quality-Defective item'], dtype=object)"
      ]
     },
     "metadata": {},
     "output_type": "display_data"
    }
   ],
   "source": [
    "display(df['reason'].unique())"
   ]
  },
  {
   "cell_type": "code",
   "execution_count": 68,
   "id": "db362b25-b2ad-4885-a9d6-e3206051e141",
   "metadata": {},
   "outputs": [],
   "source": [
    "if (df['customer_gender'].isnull().any() == True):\n",
    "    print('gg!') #it will give us nothing because there is no null values!"
   ]
  },
  {
   "cell_type": "code",
   "execution_count": 70,
   "id": "506ccf67-68a0-40ba-92ef-6684f3cbf7e6",
   "metadata": {},
   "outputs": [
    {
     "data": {
      "text/plain": [
       "array([2, 3, 1, 5, 4])"
      ]
     },
     "metadata": {},
     "output_type": "display_data"
    },
    {
     "name": "stdout",
     "output_type": "stream",
     "text": [
      "\n",
      "Number of unique rating: 5\n"
     ]
    }
   ],
   "source": [
    "display(df['rating'].unique())\n",
    "print(f\"\\nNumber of unique rating: {len(df['rating'].unique())}\")"
   ]
  },
  {
   "cell_type": "code",
   "execution_count": null,
   "id": "10960226-8bcb-4251-9759-f9deae6c355c",
   "metadata": {},
   "outputs": [],
   "source": []
  }
 ],
 "metadata": {
  "kernelspec": {
   "display_name": "Python 3",
   "language": "python",
   "name": "python3"
  },
  "language_info": {
   "codemirror_mode": {
    "name": "ipython",
    "version": 3
   },
   "file_extension": ".py",
   "mimetype": "text/x-python",
   "name": "python",
   "nbconvert_exporter": "python",
   "pygments_lexer": "ipython3",
   "version": "3.8.10"
  }
 },
 "nbformat": 4,
 "nbformat_minor": 5
}
